{
 "cells": [
  {
   "cell_type": "markdown",
   "metadata": {},
   "source": [
    "## Crear modelo de RL y RF\n",
    "\n",
    "En este apartado cambiaremos nuestra capa densa por un modelo de Regeresión Logística, un Random Forest y un Gradient Boosting"
   ]
  },
  {
   "cell_type": "code",
   "execution_count": 1,
   "metadata": {},
   "outputs": [],
   "source": [
    "\n",
    "import pickle\n",
    "\n",
    "import matplotlib.pyplot as plt\n",
    "import numpy as np\n",
    "\n",
    "from IPython.display import SVG\n",
    "from sklearn.metrics import classification_report, confusion_matrix, roc_curve, auc\n",
    "from sklearn.model_selection import train_test_split\n",
    "from sklearn.linear_model import LogisticRegression\n",
    "from sklearn.ensemble import RandomForestClassifier, GradientBoostingClassifier\n",
    "\n",
    "from sklearn.pipeline import Pipeline\n",
    "from sklearn.model_selection import RandomizedSearchCV\n",
    "from scipy.stats import randint \n",
    "from hypopt import GridSearch #para poder usar una muestra de validación y no CV\n",
    "\n",
    "import pandas as pd\n",
    "\n",
    "%matplotlib inline"
   ]
  },
  {
   "cell_type": "code",
   "execution_count": 2,
   "metadata": {},
   "outputs": [],
   "source": [
    "with open(\"features_Xrays256_BW\", \"rb\") as f:\n",
    "    Xrays256_BW = pickle.load(f)\n",
    "    pathology_list = pickle.load(f)\n",
    "    binary_labels = pickle.load(f)\n",
    "    multiclass_labels = pickle.load(f)\n",
    "    cancer_labels = pickle.load(f)\n",
    "    index_cancer = pickle.load(f)\n",
    "    index_no_cancer = pickle.load(f)\n",
    "    \n",
    "with open(\"features_Xrays256_BW_2\", \"rb\") as f:\n",
    "    features_preentrenada = pickle.load(f)"
   ]
  },
  {
   "cell_type": "code",
   "execution_count": 3,
   "metadata": {},
   "outputs": [],
   "source": [
    "test_size = int(np.shape(features_preentrenada)[0]*.20)\n",
    "train_size = np.shape(features_preentrenada)[0]-test_size"
   ]
  },
  {
   "cell_type": "code",
   "execution_count": 4,
   "metadata": {},
   "outputs": [],
   "source": [
    "X_train = features_preentrenada[:train_size]\n",
    "y_train = cancer_labels[:train_size]\n",
    "\n",
    "X_test = features_preentrenada[train_size:]\n",
    "y_test = cancer_labels[train_size:]"
   ]
  },
  {
   "cell_type": "code",
   "execution_count": 5,
   "metadata": {},
   "outputs": [],
   "source": [
    "#nval = 924\n",
    "nval = 1000\n",
    "\n",
    "\n",
    "X_tr = X_train[:-nval]\n",
    "y_tr = y_train[:-nval]\n",
    "\n",
    "X_va = X_train[-nval:]\n",
    "y_va = y_train[-nval:]"
   ]
  },
  {
   "cell_type": "markdown",
   "metadata": {},
   "source": [
    "#### Remuestreo Train"
   ]
  },
  {
   "cell_type": "code",
   "execution_count": 6,
   "metadata": {},
   "outputs": [],
   "source": [
    "ind_cancer = np.where(y_tr==1)[0].flatten()\n",
    "ind_no_cancer = np.where(y_tr!=1)[0].flatten()"
   ]
  },
  {
   "cell_type": "code",
   "execution_count": 7,
   "metadata": {},
   "outputs": [
    {
     "data": {
      "text/plain": [
       "9.690184049079754"
      ]
     },
     "execution_count": 7,
     "metadata": {},
     "output_type": "execute_result"
    }
   ],
   "source": [
    "np.shape(ind_no_cancer)[0]/ np.shape(ind_cancer)[0]"
   ]
  },
  {
   "cell_type": "code",
   "execution_count": 8,
   "metadata": {},
   "outputs": [],
   "source": [
    "n_resample=8"
   ]
  },
  {
   "cell_type": "code",
   "execution_count": 9,
   "metadata": {},
   "outputs": [
    {
     "data": {
      "text/plain": [
       "(5767,)"
      ]
     },
     "execution_count": 9,
     "metadata": {},
     "output_type": "execute_result"
    }
   ],
   "source": [
    "indice_train = np.concatenate(( np.tile(ind_cancer,(n_resample,1)).flatten(), ind_no_cancer), axis=0, out=None)\n",
    "np.shape(indice_train)"
   ]
  },
  {
   "cell_type": "code",
   "execution_count": 10,
   "metadata": {},
   "outputs": [
    {
     "data": {
      "text/plain": [
       "array([ 757,  108, 1553, ..., 2256, 3315, 1763], dtype=int64)"
      ]
     },
     "execution_count": 10,
     "metadata": {},
     "output_type": "execute_result"
    }
   ],
   "source": [
    "### desordenamos el índice, para que los registros no estén ordenados en el entrenamiento\n",
    "\n",
    "np.random.shuffle(indice_train)\n",
    "indice_train\n",
    "\n"
   ]
  },
  {
   "cell_type": "code",
   "execution_count": 11,
   "metadata": {},
   "outputs": [
    {
     "data": {
      "text/plain": [
       "(5767, 512)"
      ]
     },
     "execution_count": 11,
     "metadata": {},
     "output_type": "execute_result"
    }
   ],
   "source": [
    "np.shape(X_tr[indice_train])"
   ]
  },
  {
   "cell_type": "code",
   "execution_count": 12,
   "metadata": {},
   "outputs": [],
   "source": [
    "X_tr=X_tr[indice_train]\n",
    "y_tr=y_tr[indice_train]"
   ]
  },
  {
   "cell_type": "markdown",
   "metadata": {},
   "source": [
    "#### Remuestreo Validación"
   ]
  },
  {
   "cell_type": "code",
   "execution_count": 13,
   "metadata": {},
   "outputs": [
    {
     "data": {
      "text/plain": [
       "7.849557522123894"
      ]
     },
     "execution_count": 13,
     "metadata": {},
     "output_type": "execute_result"
    }
   ],
   "source": [
    "ind_cancer_va = np.where(y_va==1)[0].flatten()\n",
    "ind_no_cancer_va = np.where(y_va!=1)[0].flatten()\n",
    "np.shape(ind_no_cancer_va)[0]/ np.shape(ind_cancer_va)[0]"
   ]
  },
  {
   "cell_type": "code",
   "execution_count": 14,
   "metadata": {},
   "outputs": [],
   "source": [
    "n_resample_va=8"
   ]
  },
  {
   "cell_type": "code",
   "execution_count": 15,
   "metadata": {},
   "outputs": [
    {
     "data": {
      "text/plain": [
       "(1791,)"
      ]
     },
     "execution_count": 15,
     "metadata": {},
     "output_type": "execute_result"
    }
   ],
   "source": [
    "indice_va = np.concatenate(( np.tile(ind_cancer_va,(n_resample_va,1)).flatten(), ind_no_cancer_va), axis=0, out=None)\n",
    "np.shape(indice_va)"
   ]
  },
  {
   "cell_type": "code",
   "execution_count": 16,
   "metadata": {},
   "outputs": [
    {
     "data": {
      "text/plain": [
       "array([ 757,  108, 1553, ..., 2256, 3315, 1763], dtype=int64)"
      ]
     },
     "execution_count": 16,
     "metadata": {},
     "output_type": "execute_result"
    }
   ],
   "source": [
    "### desordenamos el índice, para que los registros no estén ordenados en el entrenamiento\n",
    "\n",
    "np.random.shuffle(indice_va)\n",
    "indice_va"
   ]
  },
  {
   "cell_type": "code",
   "execution_count": 17,
   "metadata": {},
   "outputs": [
    {
     "data": {
      "text/plain": [
       "(1791, 512)"
      ]
     },
     "execution_count": 17,
     "metadata": {},
     "output_type": "execute_result"
    }
   ],
   "source": [
    "np.shape(X_va[indice_va])"
   ]
  },
  {
   "cell_type": "code",
   "execution_count": 18,
   "metadata": {},
   "outputs": [
    {
     "data": {
      "text/plain": [
       "904"
      ]
     },
     "execution_count": 18,
     "metadata": {},
     "output_type": "execute_result"
    }
   ],
   "source": [
    "X_va=X_va[indice_va]\n",
    "y_va=y_va[indice_va]\n",
    "y_va.sum()"
   ]
  },
  {
   "cell_type": "code",
   "execution_count": 19,
   "metadata": {},
   "outputs": [
    {
     "name": "stdout",
     "output_type": "stream",
     "text": [
      "(5767, 512) (5767,)\n",
      "(1791, 512) (1791,)\n",
      "(1121, 512) (1121,)\n"
     ]
    }
   ],
   "source": [
    "print(X_tr.shape, y_tr.shape)\n",
    "print(X_va.shape, y_va.shape)\n",
    "print(X_test.shape, y_test.shape)"
   ]
  },
  {
   "cell_type": "markdown",
   "metadata": {},
   "source": [
    "Comprobamos balanceo"
   ]
  },
  {
   "cell_type": "code",
   "execution_count": 20,
   "metadata": {},
   "outputs": [],
   "source": [
    "from sklearn.utils import class_weight\n",
    "class_weights = class_weight.compute_class_weight('balanced',\n",
    "                                                 np.unique(y_tr),\n",
    "                                                 y_tr)"
   ]
  },
  {
   "cell_type": "code",
   "execution_count": 21,
   "metadata": {},
   "outputs": [
    {
     "data": {
      "text/plain": [
       "(array([0.91278886, 1.1056365 ]), 1.2112730061349692)"
      ]
     },
     "execution_count": 21,
     "metadata": {},
     "output_type": "execute_result"
    }
   ],
   "source": [
    "class_weights , class_weights[1]/class_weights[0] #con esto sabemos la proporción"
   ]
  },
  {
   "cell_type": "markdown",
   "metadata": {},
   "source": [
    "### Regresión Logística con  Validación cruzada"
   ]
  },
  {
   "cell_type": "code",
   "execution_count": 23,
   "metadata": {},
   "outputs": [],
   "source": [
    "from sklearn.preprocessing import StandardScaler\n",
    "\n",
    "sc = StandardScaler()\n",
    "sc.fit(X_tr)\n",
    "X_tr_sc = sc.transform(X_tr)\n",
    "X_va_sc = sc.transform(X_va)\n",
    "X_test_sc = sc.transform(X_test)"
   ]
  },
  {
   "cell_type": "code",
   "execution_count": 25,
   "metadata": {},
   "outputs": [
    {
     "data": {
      "text/plain": [
       "array([8088866, 3838201, 5012128, 9267824,  629774, 8803496, 6966952,\n",
       "       7004191, 6283162, 1943857, 8785647, 2743589, 4914000, 4971107,\n",
       "       7659721, 8549108, 1251150, 8434627, 8824967, 9901960])"
      ]
     },
     "execution_count": 25,
     "metadata": {},
     "output_type": "execute_result"
    }
   ],
   "source": [
    "np.random.randint(0,10e6, size=20)"
   ]
  },
  {
   "cell_type": "code",
   "execution_count": 26,
   "metadata": {},
   "outputs": [
    {
     "data": {
      "text/plain": [
       "LogisticRegression(C=6950745, class_weight='balanced', dual=False,\n",
       "          fit_intercept=True, intercept_scaling=1, max_iter=100,\n",
       "          multi_class='ovr', n_jobs=1, penalty='l1', random_state=0,\n",
       "          solver='liblinear', tol=0.0001, verbose=0, warm_start=False)"
      ]
     },
     "execution_count": 26,
     "metadata": {},
     "output_type": "execute_result"
    }
   ],
   "source": [
    "\n",
    "param_dist = { \"C\": np.random.randint(0, 10e6, size=20) }\n",
    "\n",
    "\n",
    "logreg = LogisticRegression(random_state=0, solver='liblinear',penalty='l1', class_weight='balanced')\n",
    "\n",
    "modelo_logit  = GridSearch(model = logreg,  param_grid=param_dist)\n",
    "\n",
    "modelo_logit.fit(X_tr_sc, y_tr, X_va, y_va,scoring='roc_auc' )\n",
    "\n",
    "#modelo_logit_CV = RandomizedSearchCV(logreg, param_distributions=param_dist, cv=10).fit(X_tr_sc, y_tr)\n"
   ]
  },
  {
   "cell_type": "code",
   "execution_count": 27,
   "metadata": {},
   "outputs": [
    {
     "name": "stdout",
     "output_type": "stream",
     "text": [
      "Score de Regresión Logística en test: 0.7323818019625334\n"
     ]
    }
   ],
   "source": [
    "print(\"Score de Regresión Logística en test:\", modelo_logit.score(X_test_sc, y_test))"
   ]
  },
  {
   "cell_type": "code",
   "execution_count": 36,
   "metadata": {},
   "outputs": [
    {
     "data": {
      "text/plain": [
       "LogisticRegression(C=20737, class_weight='balanced', dual=False,\n",
       "          fit_intercept=True, intercept_scaling=1, max_iter=100,\n",
       "          multi_class='ovr', n_jobs=1, penalty='l1', random_state=0,\n",
       "          solver='liblinear', tol=0.0001, verbose=0, warm_start=False)"
      ]
     },
     "execution_count": 36,
     "metadata": {},
     "output_type": "execute_result"
    }
   ],
   "source": [
    "modelo_logit.best_estimator_"
   ]
  },
  {
   "cell_type": "code",
   "execution_count": 38,
   "metadata": {},
   "outputs": [
    {
     "data": {
      "image/png": "[encoded data removed]",
      "text/plain": [
       "<Figure size 432x288 with 1 Axes>"
      ]
     },
     "metadata": {},
     "output_type": "display_data"
    },
    {
     "data": {
      "image/png": "[encoded data removed]",
      "text/plain": [
       "<Figure size 432x288 with 1 Axes>"
      ]
     },
     "metadata": {},
     "output_type": "display_data"
    }
   ],
   "source": [
    "#y_pred_proba = LR_model.predict(X_test_sc)\n",
    "#fpr, tpr, thresholds = roc_curve(y_test, y_pred_proba)\n",
    "y_pred_proba = modelo_logit.predict_proba(X_test_sc) \n",
    "fpr, tpr, thresholds = roc_curve(y_test, y_pred_proba[:,1])\n",
    "\n",
    "fig, ax1 = plt.subplots(1,1)\n",
    "ax1.plot(fpr, tpr, 'r-.', label = 'Regresión Logística (%2.2f)' % auc(fpr, tpr))\n",
    "ax1.set_xlabel('False Positive Rate')\n",
    "ax1.set_ylabel('True Positive Rate')\n",
    "ax1.set_title('ROC in test')\n",
    "ax1.plot(fpr, fpr, 'b-', label = 'Random Guess')\n",
    "ax1.legend()\n",
    "plt.show()\n",
    "\n",
    "plt.hist(y_pred_proba[:,1])\n",
    "plt.show()"
   ]
  },
  {
   "cell_type": "code",
   "execution_count": 40,
   "metadata": {},
   "outputs": [
    {
     "name": "stdout",
     "output_type": "stream",
     "text": [
      "             precision    recall  f1-score   support\n",
      "\n",
      "          0       0.91      0.41      0.57      1007\n",
      "          1       0.11      0.65      0.19       114\n",
      "\n",
      "avg / total       0.83      0.44      0.53      1121\n",
      "\n"
     ]
    }
   ],
   "source": [
    "y_pred_proba = modelo_logit.predict(X_test)\n",
    "print(classification_report(y_test, y_pred_proba))"
   ]
  },
  {
   "cell_type": "code",
   "execution_count": null,
   "metadata": {},
   "outputs": [],
   "source": []
  },
  {
   "cell_type": "markdown",
   "metadata": {},
   "source": [
    "### Random Forest con  Validación cruzada"
   ]
  },
  {
   "cell_type": "code",
   "execution_count": null,
   "metadata": {},
   "outputs": [],
   "source": []
  },
  {
   "cell_type": "code",
   "execution_count": 23,
   "metadata": {},
   "outputs": [
    {
     "data": {
      "text/plain": [
       "RandomForestClassifier(bootstrap=True, class_weight='balanced',\n",
       "            criterion='gini', max_depth=10, max_features=1,\n",
       "            max_leaf_nodes=None, min_impurity_decrease=0.0,\n",
       "            min_impurity_split=None, min_samples_leaf=1,\n",
       "            min_samples_split=33, min_weight_fraction_leaf=0.0,\n",
       "            n_estimators=31, n_jobs=1, oob_score=False, random_state=0,\n",
       "            verbose=0, warm_start=False)"
      ]
     },
     "execution_count": 23,
     "metadata": {},
     "output_type": "execute_result"
    }
   ],
   "source": [
    "param_dist = {'max_depth': [10, None], 'max_features': np.random.randint(0, 200, size=5),\n",
    "              'min_samples_split':np.random.randint(2, 50, size=5), 'n_estimators':np.random.randint(10, 110, size=5)}\n",
    "\n",
    "\n",
    "RF = RandomForestClassifier( class_weight='balanced')\n",
    "modelo_RF  = GridSearch(model = RF,  param_grid=param_dist)\n",
    "\n",
    "modelo_RF.fit(X_tr_sc, y_tr, X_va, y_va,scoring='roc_auc' )\n",
    "# modelo_RF_CV = RandomizedSearchCV(RF, param_distributions=param_dist, cv=10).fit(X_tr_sc, y_tr)"
   ]
  },
  {
   "cell_type": "code",
   "execution_count": 25,
   "metadata": {},
   "outputs": [
    {
     "name": "stdout",
     "output_type": "stream",
     "text": [
      "Score de Random Forest en test: 0.856378233719893\n"
     ]
    }
   ],
   "source": [
    "print(\"Score de Random Forest en test:\", modelo_RF.score(X_test_sc, y_test))"
   ]
  },
  {
   "cell_type": "code",
   "execution_count": 26,
   "metadata": {},
   "outputs": [
    {
     "data": {
      "text/plain": [
       "RandomForestClassifier(bootstrap=True, class_weight='balanced',\n",
       "            criterion='gini', max_depth=10, max_features=1,\n",
       "            max_leaf_nodes=None, min_impurity_decrease=0.0,\n",
       "            min_impurity_split=None, min_samples_leaf=1,\n",
       "            min_samples_split=33, min_weight_fraction_leaf=0.0,\n",
       "            n_estimators=31, n_jobs=1, oob_score=False, random_state=0,\n",
       "            verbose=0, warm_start=False)"
      ]
     },
     "execution_count": 26,
     "metadata": {},
     "output_type": "execute_result"
    }
   ],
   "source": [
    "modelo_RF.best_estimator_"
   ]
  },
  {
   "cell_type": "code",
   "execution_count": 28,
   "metadata": {},
   "outputs": [
    {
     "data": {
      "image/png": "[encoded data removed]",
      "text/plain": [
       "<Figure size 432x288 with 1 Axes>"
      ]
     },
     "metadata": {},
     "output_type": "display_data"
    },
    {
     "data": {
      "image/png": "[encoded data removed]",
      "text/plain": [
       "<Figure size 432x288 with 1 Axes>"
      ]
     },
     "metadata": {},
     "output_type": "display_data"
    }
   ],
   "source": [
    "#y_pred_proba = RF_model.predict(X_test)\n",
    "#fpr, tpr, thresholds = roc_curve(y_test, y_pred_proba)\n",
    "y_pred_proba = modelo_RF.predict_proba(X_test) \n",
    "fpr, tpr, thresholds = roc_curve(y_test, y_pred_proba[:,1])\n",
    "\n",
    "fig, ax1 = plt.subplots(1,1)\n",
    "ax1.plot(fpr, tpr, 'r-.', label = 'Random Forest (%2.2f)' % auc(fpr, tpr))\n",
    "ax1.set_xlabel('False Positive Rate')\n",
    "ax1.set_ylabel('True Positive Rate')\n",
    "ax1.set_title('ROC in test')\n",
    "ax1.plot(fpr, fpr, 'b-', label = 'Random Guess')\n",
    "ax1.legend()\n",
    "plt.show()\n",
    "\n",
    "plt.hist(y_pred_proba[:,1])\n",
    "plt.show()"
   ]
  },
  {
   "cell_type": "code",
   "execution_count": 29,
   "metadata": {},
   "outputs": [
    {
     "name": "stdout",
     "output_type": "stream",
     "text": [
      "             precision    recall  f1-score   support\n",
      "\n",
      "          0       0.90      1.00      0.95      1007\n",
      "          1       0.00      0.00      0.00       114\n",
      "\n",
      "avg / total       0.81      0.90      0.85      1121\n",
      "\n"
     ]
    },
    {
     "name": "stderr",
     "output_type": "stream",
     "text": [
      "C:\\ProgramData\\Anaconda3\\lib\\site-packages\\sklearn\\metrics\\classification.py:1135: UndefinedMetricWarning: Precision and F-score are ill-defined and being set to 0.0 in labels with no predicted samples.\n",
      "  'precision', 'predicted', average, warn_for)\n"
     ]
    }
   ],
   "source": [
    "y_pred_proba = modelo_RF.predict(X_test)\n",
    "print(classification_report(y_test, y_pred_proba))"
   ]
  },
  {
   "cell_type": "code",
   "execution_count": null,
   "metadata": {},
   "outputs": [],
   "source": []
  },
  {
   "cell_type": "markdown",
   "metadata": {},
   "source": [
    "### Gradient Boosting con  Validación cruzada"
   ]
  },
  {
   "cell_type": "code",
   "execution_count": 32,
   "metadata": {},
   "outputs": [
    {
     "data": {
      "text/plain": [
       "GradientBoostingClassifier(criterion='friedman_mse', init=None,\n",
       "              learning_rate=0.1, loss='deviance', max_depth=6,\n",
       "              max_features=8, max_leaf_nodes=None,\n",
       "              min_impurity_decrease=0.0, min_impurity_split=None,\n",
       "              min_samples_leaf=2, min_samples_split=6,\n",
       "              min_weight_fraction_leaf=0.0, n_estimators=100,\n",
       "              presort='auto', random_state=0, subsample=1.0, verbose=0,\n",
       "              warm_start=False)"
      ]
     },
     "execution_count": 32,
     "metadata": {},
     "output_type": "execute_result"
    }
   ],
   "source": [
    "param_dist={'max_depth':np.random.randint(1, 10, size=5),\n",
    "            'max_features':np.random.randint(1, 10, size=5),\n",
    "            'min_samples_leaf' :np.random.randint(1, 10, size=5),\n",
    "            'min_samples_split':np.random.randint(1, 10, size=5)}\n",
    "\n",
    "GBC = GradientBoostingClassifier( n_estimators=100, random_state=0)\n",
    "\n",
    "# GBC_model = RandomizedSearchCV(GBC, param_distributions=rf_p_dist,\n",
    "#                                   n_jobs=-1, n_iter=10, cv=9)\n",
    "# GBC_model.fit(X_tr_sc, y_tr)\n",
    "\n",
    "\n",
    "GBC_model  = GridSearch(model = GBC,  param_grid=param_dist)\n",
    "\n",
    "GBC_model.fit(X_tr_sc, y_tr, X_va, y_va,scoring='roc_auc' )"
   ]
  },
  {
   "cell_type": "code",
   "execution_count": 33,
   "metadata": {},
   "outputs": [
    {
     "name": "stdout",
     "output_type": "stream",
     "text": [
      "Score de GBC en test: 0.8947368421052632\n"
     ]
    }
   ],
   "source": [
    "print(\"Score de GBC en test:\", GBC_model.score(X_test_sc, y_test))"
   ]
  },
  {
   "cell_type": "code",
   "execution_count": 34,
   "metadata": {},
   "outputs": [
    {
     "data": {
      "text/plain": [
       "GradientBoostingClassifier(criterion='friedman_mse', init=None,\n",
       "              learning_rate=0.1, loss='deviance', max_depth=6,\n",
       "              max_features=8, max_leaf_nodes=None,\n",
       "              min_impurity_decrease=0.0, min_impurity_split=None,\n",
       "              min_samples_leaf=2, min_samples_split=6,\n",
       "              min_weight_fraction_leaf=0.0, n_estimators=100,\n",
       "              presort='auto', random_state=0, subsample=1.0, verbose=0,\n",
       "              warm_start=False)"
      ]
     },
     "execution_count": 34,
     "metadata": {},
     "output_type": "execute_result"
    }
   ],
   "source": [
    "\n",
    "GBC_model.best_estimator_"
   ]
  },
  {
   "cell_type": "code",
   "execution_count": 35,
   "metadata": {},
   "outputs": [
    {
     "data": {
      "image/png": "[encoded data removed]",
      "text/plain": [
       "<Figure size 432x288 with 1 Axes>"
      ]
     },
     "metadata": {},
     "output_type": "display_data"
    },
    {
     "data": {
      "image/png": "[encoded data removed]",
      "text/plain": [
       "<Figure size 432x288 with 1 Axes>"
      ]
     },
     "metadata": {},
     "output_type": "display_data"
    }
   ],
   "source": [
    "#y_pred_proba = RF_model.predict(X_test)\n",
    "#fpr, tpr, thresholds = roc_curve(y_test, y_pred_proba)\n",
    "y_pred_proba = GBC_model.predict_proba(X_test) \n",
    "fpr, tpr, thresholds = roc_curve(y_test, y_pred_proba[:,1])\n",
    "\n",
    "fig, ax1 = plt.subplots(1,1)\n",
    "ax1.plot(fpr, tpr, 'r-.', label = 'Gradient Boosting (%2.2f)' % auc(fpr, tpr))\n",
    "ax1.set_xlabel('False Positive Rate')\n",
    "ax1.set_ylabel('True Positive Rate')\n",
    "ax1.set_title('ROC in test')\n",
    "ax1.plot(fpr, fpr, 'b-', label = 'Gradient Boosting')\n",
    "ax1.legend()\n",
    "plt.show()\n",
    "\n",
    "plt.hist(y_pred_proba[:,1])\n",
    "plt.show()"
   ]
  },
  {
   "cell_type": "code",
   "execution_count": 36,
   "metadata": {},
   "outputs": [
    {
     "name": "stdout",
     "output_type": "stream",
     "text": [
      "             precision    recall  f1-score   support\n",
      "\n",
      "          0       0.90      1.00      0.95      1007\n",
      "          1       0.00      0.00      0.00       114\n",
      "\n",
      "avg / total       0.81      0.90      0.85      1121\n",
      "\n"
     ]
    },
    {
     "name": "stderr",
     "output_type": "stream",
     "text": [
      "C:\\ProgramData\\Anaconda3\\lib\\site-packages\\sklearn\\metrics\\classification.py:1135: UndefinedMetricWarning: Precision and F-score are ill-defined and being set to 0.0 in labels with no predicted samples.\n",
      "  'precision', 'predicted', average, warn_for)\n"
     ]
    }
   ],
   "source": [
    "y_pred_proba = GBC_model.predict(X_test)\n",
    "print(classification_report(y_test, y_pred_proba))"
   ]
  },
  {
   "cell_type": "code",
   "execution_count": 33,
   "metadata": {},
   "outputs": [
    {
     "data": {
      "text/plain": [
       "array([41, 25, 48, 26, 19])"
      ]
     },
     "execution_count": 33,
     "metadata": {},
     "output_type": "execute_result"
    }
   ],
   "source": [
    "np.random.randint(2, 50, size=5)"
   ]
  },
  {
   "cell_type": "code",
   "execution_count": 45,
   "metadata": {},
   "outputs": [
    {
     "data": {
      "text/plain": [
       "array([1, 2, 3, 4])"
      ]
     },
     "execution_count": 45,
     "metadata": {},
     "output_type": "execute_result"
    }
   ],
   "source": [
    "np.arange(1,5)"
   ]
  },
  {
   "cell_type": "code",
   "execution_count": 51,
   "metadata": {},
   "outputs": [
    {
     "data": {
      "text/plain": [
       "array([1., 2., 3., 4., 5.])"
      ]
     },
     "execution_count": 51,
     "metadata": {},
     "output_type": "execute_result"
    }
   ],
   "source": [
    "np.linspace(1,5,5)"
   ]
  },
  {
   "cell_type": "code",
   "execution_count": null,
   "metadata": {},
   "outputs": [],
   "source": []
  }
 ],
 "metadata": {
  "kernelspec": {
   "display_name": "Python 3 (ipykernel)",
   "language": "python",
   "name": "python3"
  },
  "language_info": {
   "codemirror_mode": {
    "name": "ipython",
    "version": 3
   },
   "file_extension": ".py",
   "mimetype": "text/x-python",
   "name": "python",
   "nbconvert_exporter": "python",
   "pygments_lexer": "ipython3",
   "version": "3.8.8"
  }
 },
 "nbformat": 4,
 "nbformat_minor": 4
}
